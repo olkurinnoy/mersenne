{
 "cells": [
  {
   "cell_type": "code",
   "execution_count": 209,
   "metadata": {},
   "outputs": [],
   "source": [
    "from qiskit import QuantumProgram\n",
    "from math import pi"
   ]
  },
  {
   "cell_type": "code",
   "execution_count": 210,
   "metadata": {},
   "outputs": [],
   "source": [
    "qp = QuantumProgram()\n",
    "n = 4\n",
    "qr = qp.create_quantum_register('qr', 2*n)\n",
    "cr = qp.create_classical_register('cr', 2*n)\n",
    "qc = qp.create_circuit('Shor', [qr], [cr])"
   ]
  },
  {
   "cell_type": "code",
   "execution_count": 211,
   "metadata": {},
   "outputs": [],
   "source": [
    "for i in range(n):\n",
    "    qc.h(qr[i])"
   ]
  },
  {
   "cell_type": "code",
   "execution_count": 212,
   "metadata": {},
   "outputs": [],
   "source": [
    "def mul_by_7_mod_15(qc,qr):\n",
    "    qc.x(qr[4])\n",
    "    qc.x(qr[5])\n",
    "    qc.x(qr[6])\n",
    "    qc.x(qr[7])\n",
    "    qc.cx(qr[6],qr[5])\n",
    "    qc.cx(qr[5],qr[6])\n",
    "    qc.cx(qr[6],qr[5])\n",
    "    qc.cx(qr[5],qr[4])\n",
    "    qc.cx(qr[4],qr[5])\n",
    "    qc.cx(qr[5],qr[4])\n",
    "    qc.cx(qr[7],qr[4])\n",
    "    qc.cx(qr[4],qr[7])\n",
    "    qc.cx(qr[7],qr[4])"
   ]
  },
  {
   "cell_type": "code",
   "execution_count": 213,
   "metadata": {},
   "outputs": [
    {
     "data": {
      "text/plain": [
       "<qiskit.extensions.standard.barrier.Barrier at 0x1da7e13d710>"
      ]
     },
     "execution_count": 213,
     "metadata": {},
     "output_type": "execute_result"
    }
   ],
   "source": [
    "qc.barrier()\n",
    "\n",
    "qc.cx(qr[3],qr[7])\n",
    "mul_by_7_mod_15(qc,qr)\n",
    "\n",
    "qc.cx(qr[2],qr[6])\n",
    "mul_by_7_mod_15(qc,qr)\n",
    "mul_by_7_mod_15(qc,qr)\n",
    "\n",
    "qc.cx(qr[1],qr[5])\n",
    "mul_by_7_mod_15(qc,qr)\n",
    "mul_by_7_mod_15(qc,qr)\n",
    "mul_by_7_mod_15(qc,qr)\n",
    "\n",
    "qc.cx(qr[0],qr[4])\n",
    "mul_by_7_mod_15(qc,qr)\n",
    "mul_by_7_mod_15(qc,qr)\n",
    "mul_by_7_mod_15(qc,qr)\n",
    "mul_by_7_mod_15(qc,qr)\n",
    "\n",
    "qc.barrier()"
   ]
  },
  {
   "cell_type": "code",
   "execution_count": 214,
   "metadata": {},
   "outputs": [],
   "source": [
    "for i in range(n):\n",
    "    qc.measure(qr[n + i], cr[n + i])"
   ]
  },
  {
   "cell_type": "code",
   "execution_count": 215,
   "metadata": {},
   "outputs": [
    {
     "data": {
      "text/plain": [
       "<qiskit.extensions.standard.h.HGate at 0x1da7e1c6358>"
      ]
     },
     "execution_count": 215,
     "metadata": {},
     "output_type": "execute_result"
    }
   ],
   "source": [
    "qc.h(qr[3])\n",
    "qc.cu1(float(2**1),qr[2],qr[3])\n",
    "qc.h(qr[2])\n",
    "qc.cu1(float(2**2),qr[1],qr[3])\n",
    "qc.cu1(float(2**1),qr[1],qr[2])\n",
    "qc.h(qr[1])\n",
    "qc.cu1(float(2**3),qr[0],qr[3])\n",
    "qc.cu1(float(2**2),qr[0],qr[2])\n",
    "qc.cu1(float(2**1),qr[0],qr[1])\n",
    "qc.h(qr[0])"
   ]
  },
  {
   "cell_type": "code",
   "execution_count": 216,
   "metadata": {},
   "outputs": [],
   "source": [
    "for i in range(n):\n",
    "    qc.measure(qr[i], cr[i])"
   ]
  },
  {
   "cell_type": "code",
   "execution_count": 217,
   "metadata": {},
   "outputs": [],
   "source": [
    "result = qp.execute('Shor')\n",
    "answer = result.get_counts('Shor')"
   ]
  },
  {
   "cell_type": "code",
   "execution_count": 218,
   "metadata": {},
   "outputs": [
    {
     "data": {
      "text/plain": [
       "{'00000000': 12,\n",
       " '00000010': 14,\n",
       " '00000100': 10,\n",
       " '00000101': 1,\n",
       " '00000110': 10,\n",
       " '00000111': 3,\n",
       " '00001000': 21,\n",
       " '00001001': 1,\n",
       " '00001010': 7,\n",
       " '00001011': 9,\n",
       " '00001100': 11,\n",
       " '00001101': 4,\n",
       " '00001110': 8,\n",
       " '00001111': 10,\n",
       " '00010000': 16,\n",
       " '00010010': 13,\n",
       " '00010011': 11,\n",
       " '00010100': 7,\n",
       " '00010101': 10,\n",
       " '00010110': 11,\n",
       " '00010111': 4,\n",
       " '00011000': 7,\n",
       " '00011001': 12,\n",
       " '00011011': 22,\n",
       " '00011100': 13,\n",
       " '00011110': 6,\n",
       " '00011111': 8,\n",
       " '00100000': 20,\n",
       " '00100010': 15,\n",
       " '00100011': 4,\n",
       " '00100100': 15,\n",
       " '00100110': 9,\n",
       " '00100111': 6,\n",
       " '00101000': 13,\n",
       " '00101001': 3,\n",
       " '00101010': 3,\n",
       " '00101011': 10,\n",
       " '00101100': 12,\n",
       " '00101101': 2,\n",
       " '00101110': 5,\n",
       " '00101111': 8,\n",
       " '00110000': 14,\n",
       " '00110010': 10,\n",
       " '00110011': 2,\n",
       " '00110100': 3,\n",
       " '00110101': 6,\n",
       " '00110110': 12,\n",
       " '00110111': 4,\n",
       " '00111000': 2,\n",
       " '00111001': 12,\n",
       " '00111011': 17,\n",
       " '00111100': 13,\n",
       " '00111101': 1,\n",
       " '00111110': 9,\n",
       " '00111111': 5,\n",
       " '10000000': 23,\n",
       " '10000010': 9,\n",
       " '10000011': 8,\n",
       " '10000100': 15,\n",
       " '10000110': 3,\n",
       " '10000111': 5,\n",
       " '10001000': 11,\n",
       " '10001010': 8,\n",
       " '10001011': 11,\n",
       " '10001100': 15,\n",
       " '10001101': 3,\n",
       " '10001110': 2,\n",
       " '10001111': 11,\n",
       " '10010000': 13,\n",
       " '10010010': 15,\n",
       " '10010011': 4,\n",
       " '10010100': 3,\n",
       " '10010101': 9,\n",
       " '10010110': 19,\n",
       " '10010111': 4,\n",
       " '10011000': 3,\n",
       " '10011001': 20,\n",
       " '10011011': 18,\n",
       " '10011100': 15,\n",
       " '10011101': 1,\n",
       " '10011110': 13,\n",
       " '10011111': 7,\n",
       " '10100000': 14,\n",
       " '10100010': 10,\n",
       " '10100011': 6,\n",
       " '10100100': 13,\n",
       " '10100101': 1,\n",
       " '10100110': 8,\n",
       " '10100111': 7,\n",
       " '10101000': 14,\n",
       " '10101010': 6,\n",
       " '10101011': 8,\n",
       " '10101100': 21,\n",
       " '10101101': 5,\n",
       " '10101110': 2,\n",
       " '10101111': 10,\n",
       " '10110000': 23,\n",
       " '10110010': 16,\n",
       " '10110011': 4,\n",
       " '10110100': 2,\n",
       " '10110101': 11,\n",
       " '10110110': 13,\n",
       " '10110111': 2,\n",
       " '10111000': 1,\n",
       " '10111001': 12,\n",
       " '10111011': 18,\n",
       " '10111100': 18,\n",
       " '10111110': 6,\n",
       " '10111111': 9}"
      ]
     },
     "execution_count": 218,
     "metadata": {},
     "output_type": "execute_result"
    }
   ],
   "source": [
    "answer"
   ]
  },
  {
   "cell_type": "code",
   "execution_count": null,
   "metadata": {},
   "outputs": [],
   "source": []
  },
  {
   "cell_type": "code",
   "execution_count": null,
   "metadata": {},
   "outputs": [],
   "source": []
  }
 ],
 "metadata": {
  "kernelspec": {
   "display_name": "Python 3",
   "language": "python",
   "name": "python3"
  },
  "language_info": {
   "codemirror_mode": {
    "name": "ipython",
    "version": 3
   },
   "file_extension": ".py",
   "mimetype": "text/x-python",
   "name": "python",
   "nbconvert_exporter": "python",
   "pygments_lexer": "ipython3",
   "version": "3.6.4"
  }
 },
 "nbformat": 4,
 "nbformat_minor": 2
}
