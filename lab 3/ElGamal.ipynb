{
 "cells": [
  {
   "cell_type": "code",
   "execution_count": 391,
   "metadata": {},
   "outputs": [],
   "source": [
    "import numpy as np\n",
    "import random"
   ]
  },
  {
   "cell_type": "code",
   "execution_count": 392,
   "metadata": {},
   "outputs": [],
   "source": [
    "def S(X):\n",
    "    x0 = X & 0xFF\n",
    "    x1 = (X >> 8) & 0xFF\n",
    "    x2 = (X >> 16) & 0xFF\n",
    "    x3 = (X >> 24) & 0xFF\n",
    "    s = [0x63, 0x7C, 0x77, 0x7B, 0xF2, 0x6B, 0x6F, 0xC5, 0x30, 0x01, 0x67, 0x2B, 0xFE, 0xD7, 0xAB, 0x76,\n",
    "    0xCA, 0x82, 0xC9, 0x7D, 0xFA, 0x59, 0x47, 0xF0, 0xAD, 0xD4, 0xA2, 0xAF, 0x9C, 0xA4, 0x72, 0xC0,\n",
    "    0xB7, 0xFD, 0x93, 0x26, 0x36, 0x3F, 0xF7, 0xCC, 0x34, 0xA5, 0xE5, 0xF1, 0x71, 0xD8, 0x31, 0x15,\n",
    "    0x04, 0xC7, 0x23, 0xC3, 0x18, 0x96, 0x05, 0x9A, 0x07, 0x12, 0x80, 0xE2, 0xEB, 0x27, 0xB2, 0x75,\n",
    "    0x09, 0x83, 0x2C, 0x1A, 0x1B, 0x6E, 0x5A, 0xA0, 0x52, 0x3B, 0xD6, 0xB3, 0x29, 0xE3, 0x2F, 0x84,\n",
    "    0x53, 0xD1, 0x00, 0xED, 0x20, 0xFC, 0xB1, 0x5B, 0x6A, 0xCB, 0xBE, 0x39, 0x4A, 0x4C, 0x58, 0xCF,\n",
    "    0xD0, 0xEF, 0xAA, 0xFB, 0x43, 0x4D, 0x33, 0x85, 0x45, 0xF9, 0x02, 0x7F, 0x50, 0x3C, 0x9F, 0xA8,\n",
    "    0x51, 0xA3, 0x40, 0x8F, 0x92, 0x9D, 0x38, 0xF5, 0xBC, 0xB6, 0xDA, 0x21, 0x10, 0xFF, 0xF3, 0xD2,\n",
    "    0xCD, 0x0C, 0x13, 0xEC, 0x5F, 0x97, 0x44, 0x17, 0xC4, 0xA7, 0x7E, 0x3D, 0x64, 0x5D, 0x19, 0x73,\n",
    "    0x60, 0x81, 0x4F, 0xDC, 0x22, 0x2A, 0x90, 0x88, 0x46, 0xEE, 0xB8, 0x14, 0xDE, 0x5E, 0x0B, 0xDB,\n",
    "    0xE0, 0x32, 0x3A, 0x0A, 0x49, 0x06, 0x24, 0x5C, 0xC2, 0xD3, 0xAC, 0x62, 0x91, 0x95, 0xE4, 0x79,\n",
    "    0xE7, 0xC8, 0x37, 0x6D, 0x8D, 0xD5, 0x4E, 0xA9, 0x6C, 0x56, 0xF4, 0xEA, 0x65, 0x7A, 0xAE, 0x08,\n",
    "    0xBA, 0x78, 0x25, 0x2E, 0x1C, 0xA6, 0xB4, 0xC6, 0xE8, 0xDD, 0x74, 0x1F, 0x4B, 0xBD, 0x8B, 0x8A,\n",
    "    0x70, 0x3E, 0xB5, 0x66, 0x48, 0x03, 0xF6, 0x0E, 0x61, 0x35, 0x57, 0xB9, 0x86, 0xC1, 0x1D, 0x9E,\n",
    "    0xE1, 0xF8, 0x98, 0x11, 0x69, 0xD9, 0x8E, 0x94, 0x9B, 0x1E, 0x87, 0xE9, 0xCE, 0x55, 0x28, 0xDF,\n",
    "    0x8C, 0xA1, 0x89, 0x0D, 0xBF, 0xE6, 0x42, 0x68, 0x41, 0x99, 0x2D, 0x0F, 0xB0, 0x54, 0xBB, 0x16]\n",
    "    y0 = s[x0]\n",
    "    y1 = s[x1]\n",
    "    y2 = s[x2]\n",
    "    y3 = s[x3]\n",
    "    Y = y3*(1<<24) + y2*(1<<16) + y1*(1<<8) + y0\n",
    "    return Y"
   ]
  },
  {
   "cell_type": "code",
   "execution_count": 393,
   "metadata": {},
   "outputs": [],
   "source": [
    "def circ_shift_left(num, shift):\n",
    "    if (shift > 32):\n",
    "        raise NameError(\"Shift can't be bigger than 32\")\n",
    "        return None\n",
    "    else:\n",
    "        return (num << shift)&0xFFFFFFFF|(num >> ((1<<5) - shift))"
   ]
  },
  {
   "cell_type": "code",
   "execution_count": 394,
   "metadata": {},
   "outputs": [],
   "source": [
    "def F(K, R):\n",
    "    return circ_shift_left(S(K ^ R), 13)"
   ]
  },
  {
   "cell_type": "code",
   "execution_count": 395,
   "metadata": {},
   "outputs": [],
   "source": [
    "def get_byte_arr(M):\n",
    "    byte_arr = []\n",
    "    for i in range(8):\n",
    "        byte_arr.append((M >> 8*i) & 0xFF)\n",
    "    return byte_arr"
   ]
  },
  {
   "cell_type": "code",
   "execution_count": 396,
   "metadata": {},
   "outputs": [],
   "source": [
    "def round_keys(Key):\n",
    "    K = []\n",
    "    K.append(None)\n",
    "    byte = get_byte_arr(Key)\n",
    "    K.append(byte[4]*(1<<24) + byte[5]*(1<<16) + byte[6]*(1<<8) + byte[7])\n",
    "    K.append(byte[0]*(1<<24) + byte[1]*(1<<16) + byte[2]*(1<<8) + byte[3])\n",
    "    K.append(K[2] ^ 0xFFFFFFFF)\n",
    "    K.append(K[1] ^ 0xFFFFFFFF)\n",
    "    return K"
   ]
  },
  {
   "cell_type": "code",
   "execution_count": 397,
   "metadata": {},
   "outputs": [],
   "source": [
    "def E(M, Key):\n",
    "    L = []\n",
    "    R = []\n",
    "    K = round_keys(Key)\n",
    "    byte = get_byte_arr(M)\n",
    "    L.append(byte[4]*(1<<24) + byte[5]*(1<<16) + byte[6]*(1<<8) + byte[7])\n",
    "    R.append(byte[0]*(1<<24) + byte[1]*(1<<16) + byte[2]*(1<<8) + byte[3])\n",
    "    for i in range(1,5):\n",
    "        L.append(F(K[i], R[i-1]) ^ L[i-1])\n",
    "        R.append(L[i-1])\n",
    "    byte =  get_byte_arr((1<<32)*L[4] + R[4])\n",
    "    CT = 0\n",
    "    for i in range(8):\n",
    "        CT = CT + (1 << 8*i)*byte[7 - i]\n",
    "    return CT"
   ]
  },
  {
   "cell_type": "code",
   "execution_count": 422,
   "metadata": {},
   "outputs": [],
   "source": [
    "def Hash(Mess):\n",
    "    last_block = Mess.bit_length() % 64\n",
    "    last_block = last_block + (8 - last_block % 8)\n",
    "    Mess = (Mess << 1) | 1\n",
    "    last_block = last_block + 1\n",
    "    Mess = Mess << (64 - last_block)\n",
    "    M = []\n",
    "    M.append(None)\n",
    "    t = Mess.bit_length()\n",
    "    t = (t + (64 - t % 64)) // 64\n",
    "    for i in range(1, t + 1):\n",
    "        M.append((Mess >> 64*(t - i)) & 0xFFFFFFFFFFFFFFFF)\n",
    "    H = []\n",
    "    H.append(0)\n",
    "    for i in range(1, t + 1):\n",
    "        H.append(E(M[i], H[i - 1]) ^ M[i] ^ H[i - 1])\n",
    "    return H[t]"
   ]
  },
  {
   "cell_type": "code",
   "execution_count": 399,
   "metadata": {},
   "outputs": [],
   "source": [
    "def gen_secret_key(p):\n",
    "    sk = random.randint(1, p - 1)\n",
    "    return sk"
   ]
  },
  {
   "cell_type": "code",
   "execution_count": 400,
   "metadata": {},
   "outputs": [],
   "source": [
    "def gen_public_key(a, x, p):\n",
    "    pk = pow(a, x, p)\n",
    "    return pk"
   ]
  },
  {
   "cell_type": "code",
   "execution_count": 401,
   "metadata": {},
   "outputs": [],
   "source": [
    "def egcd(a, b):\n",
    "    if a == 0:\n",
    "        return (b, 0, 1)\n",
    "    else:\n",
    "        g, x, y = egcd(b % a, a)\n",
    "        return (g, y - (b // a) * x, x)"
   ]
  },
  {
   "cell_type": "code",
   "execution_count": 402,
   "metadata": {},
   "outputs": [],
   "source": [
    "def mulinv(b, n):\n",
    "    g, x, _ = egcd(b, n)\n",
    "    if g == 1:\n",
    "        return x % n"
   ]
  },
  {
   "cell_type": "code",
   "execution_count": 403,
   "metadata": {},
   "outputs": [],
   "source": [
    "def gen_sign(M, a, x, p, q):\n",
    "    H = (Hash(M) << 64) ^ (0xFFFFFFFFFFFF00)\n",
    "    U = random.randint(1, p - 1)\n",
    "    Z = pow(a, U, p)\n",
    "    k = ((U*Z) * mulinv(H*x - Z, q)) % q\n",
    "    g = ((H * x - Z) * mulinv(Z, q)) % q\n",
    "    S = pow(a, g, p)\n",
    "    Sign = [S, k]\n",
    "    return Sign"
   ]
  },
  {
   "cell_type": "code",
   "execution_count": 404,
   "metadata": {},
   "outputs": [],
   "source": [
    "def check_sign(M, Sign, a, y, p ,q):\n",
    "    S = Sign[0]\n",
    "    k = Sign[1]\n",
    "    H = (Hash(M) << 64) ^ (0xFFFFFFFFFFFF00)\n",
    "    y1 = pow(y, H, p)\n",
    "    y2 = pow(a*S, pow(S, k, p), p)\n",
    "    if (y1 == y2):\n",
    "        return True\n",
    "    else:\n",
    "        return False"
   ]
  },
  {
   "cell_type": "code",
   "execution_count": 405,
   "metadata": {},
   "outputs": [],
   "source": [
    "p = 0xAF5228967057FE1CB84B92511BE89A47\n",
    "q = 0x57A9144B382BFF0E5C25C9288DF44D23\n",
    "a = 0x9E93A4096E5416CED0242228014B67B5"
   ]
  },
  {
   "cell_type": "code",
   "execution_count": 417,
   "metadata": {},
   "outputs": [],
   "source": [
    "M = 0\n",
    "f = open(\"data\", \"rb\")\n",
    "while True:\n",
    "    byte = f.read(1)\n",
    "    if not byte:\n",
    "        break\n",
    "    M = (M << 8) + int.from_bytes(byte, byteorder='big')\n",
    "f.close()"
   ]
  },
  {
   "cell_type": "code",
   "execution_count": 424,
   "metadata": {
    "scrolled": false
   },
   "outputs": [
    {
     "data": {
      "text/plain": [
       "'0xf87e936bbe638b55'"
      ]
     },
     "execution_count": 424,
     "metadata": {},
     "output_type": "execute_result"
    }
   ],
   "source": [
    "hex(Hash(M))"
   ]
  },
  {
   "cell_type": "code",
   "execution_count": null,
   "metadata": {},
   "outputs": [],
   "source": []
  }
 ],
 "metadata": {
  "kernelspec": {
   "display_name": "Python 3",
   "language": "python",
   "name": "python3"
  },
  "language_info": {
   "codemirror_mode": {
    "name": "ipython",
    "version": 3
   },
   "file_extension": ".py",
   "mimetype": "text/x-python",
   "name": "python",
   "nbconvert_exporter": "python",
   "pygments_lexer": "ipython3",
   "version": "3.6.4"
  }
 },
 "nbformat": 4,
 "nbformat_minor": 2
}
